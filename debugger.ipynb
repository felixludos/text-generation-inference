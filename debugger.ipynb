{
 "cells": [
  {
   "cell_type": "code",
   "id": "initial_id",
   "metadata": {
    "collapsed": true,
    "ExecuteTime": {
     "end_time": "2024-04-29T17:31:24.932057Z",
     "start_time": "2024-04-29T17:31:20.874119Z"
    }
   },
   "source": [
    "from pathlib import Path\n",
    "import pickle\n",
    "import torch\n",
    "# from text_generation_server.models.causal_lm import CausalLMBatch"
   ],
   "outputs": [
    {
     "name": "stderr",
     "output_type": "stream",
     "text": [
      "2024-04-29 19:31:24.855 | ERROR    | text_generation_server.utils.gptq.exllamav2:<module>:11 - exllamav2_kernels not installed.\n",
      "2024-04-29 19:31:24.927 | WARNING  | text_generation_server.models:<module>:80 - Could not import Flash Attention enabled models: No module named 'vllm'\n",
      "2024-04-29 19:31:24.930 | WARNING  | text_generation_server.models:<module>:103 - Could not import Mamba: No module named 'mamba_ssm'\n"
     ]
    }
   ],
   "execution_count": 1
  },
  {
   "metadata": {
    "ExecuteTime": {
     "end_time": "2024-04-29T18:59:46.625352Z",
     "start_time": "2024-04-29T18:59:46.619903Z"
    }
   },
   "cell_type": "code",
   "source": "path = Path('server/inps.txt')",
   "id": "34ee09d5896014df",
   "outputs": [],
   "execution_count": 67
  },
  {
   "metadata": {
    "ExecuteTime": {
     "end_time": "2024-04-29T18:59:46.851140Z",
     "start_time": "2024-04-29T18:59:46.843713Z"
    }
   },
   "cell_type": "code",
   "source": [
    "lines = path.read_text().split('\\n')\n",
    "len(lines)"
   ],
   "id": "d37c907a2dccf36e",
   "outputs": [
    {
     "data": {
      "text/plain": [
       "38"
      ]
     },
     "execution_count": 68,
     "metadata": {},
     "output_type": "execute_result"
    }
   ],
   "execution_count": 68
  },
  {
   "metadata": {
    "ExecuteTime": {
     "end_time": "2024-04-29T18:59:47.043693Z",
     "start_time": "2024-04-29T18:59:47.036926Z"
    }
   },
   "cell_type": "code",
   "source": "print(''.join(map(eval,lines[:-1])))",
   "id": "bf34aa0c53e9dc24",
   "outputs": [
    {
     "name": "stdout",
     "output_type": "stream",
     "text": [
      "<bos><bos><start_of_turn>user\n",
      "[user prompt]<end_of_turn>\n",
      "<start_of_turn>model\n",
      "I understand that I can provide information and assist with problem-solving based on the context you provide. Please give me a prompt and I will do my best to fulfill your request.\n"
     ]
    }
   ],
   "execution_count": 69
  },
  {
   "metadata": {
    "ExecuteTime": {
     "end_time": "2024-04-29T18:58:15.844714Z",
     "start_time": "2024-04-29T18:58:15.837547Z"
    }
   },
   "cell_type": "code",
   "source": "print(''.join(map(eval,lines[:-1])))",
   "id": "bd3688ebee3f226c",
   "outputs": [
    {
     "name": "stdout",
     "output_type": "stream",
     "text": [
      "<bos><bos><start_of_turn>user\n",
      "[user prompt]<end_of_turn>\n",
      "<start_of_turn>model\n",
      "I understand that I can provide information and assist with problem-solving based on the context you provide. Please give me a prompt and I will do my best to fulfill your request.\n"
     ]
    }
   ],
   "execution_count": 63
  },
  {
   "metadata": {
    "ExecuteTime": {
     "end_time": "2024-04-29T18:59:24.964838Z",
     "start_time": "2024-04-29T18:59:24.934851Z"
    }
   },
   "cell_type": "code",
   "source": "path.unlink()",
   "id": "ab3f5d1901deaef6",
   "outputs": [
    {
     "ename": "FileNotFoundError",
     "evalue": "[Errno 2] No such file or directory: 'server/inps.txt'",
     "output_type": "error",
     "traceback": [
      "\u001B[0;31m---------------------------------------------------------------------------\u001B[0m",
      "\u001B[0;31mFileNotFoundError\u001B[0m                         Traceback (most recent call last)",
      "Cell \u001B[0;32mIn[66], line 1\u001B[0m\n\u001B[0;32m----> 1\u001B[0m \u001B[43mpath\u001B[49m\u001B[38;5;241;43m.\u001B[39;49m\u001B[43munlink\u001B[49m\u001B[43m(\u001B[49m\u001B[43m)\u001B[49m\n",
      "File \u001B[0;32m~/miniconda3/envs/llm/lib/python3.11/pathlib.py:1147\u001B[0m, in \u001B[0;36mPath.unlink\u001B[0;34m(self, missing_ok)\u001B[0m\n\u001B[1;32m   1142\u001B[0m \u001B[38;5;250m\u001B[39m\u001B[38;5;124;03m\"\"\"\u001B[39;00m\n\u001B[1;32m   1143\u001B[0m \u001B[38;5;124;03mRemove this file or link.\u001B[39;00m\n\u001B[1;32m   1144\u001B[0m \u001B[38;5;124;03mIf the path is a directory, use rmdir() instead.\u001B[39;00m\n\u001B[1;32m   1145\u001B[0m \u001B[38;5;124;03m\"\"\"\u001B[39;00m\n\u001B[1;32m   1146\u001B[0m \u001B[38;5;28;01mtry\u001B[39;00m:\n\u001B[0;32m-> 1147\u001B[0m     os\u001B[38;5;241m.\u001B[39munlink(\u001B[38;5;28mself\u001B[39m)\n\u001B[1;32m   1148\u001B[0m \u001B[38;5;28;01mexcept\u001B[39;00m \u001B[38;5;167;01mFileNotFoundError\u001B[39;00m:\n\u001B[1;32m   1149\u001B[0m     \u001B[38;5;28;01mif\u001B[39;00m \u001B[38;5;129;01mnot\u001B[39;00m missing_ok:\n",
      "\u001B[0;31mFileNotFoundError\u001B[0m: [Errno 2] No such file or directory: 'server/inps.txt'"
     ]
    }
   ],
   "execution_count": 66
  },
  {
   "metadata": {
    "ExecuteTime": {
     "end_time": "2024-04-29T18:58:25.871638Z",
     "start_time": "2024-04-29T18:58:25.863893Z"
    }
   },
   "cell_type": "code",
   "source": "eval(lines[0])",
   "id": "933dbd0640d4627f",
   "outputs": [
    {
     "data": {
      "text/plain": [
       "'<bos><bos><start_of_turn>user\\n[user prompt]<end_of_turn>\\n<start_of_turn>model\\n'"
      ]
     },
     "execution_count": 64,
     "metadata": {},
     "output_type": "execute_result"
    }
   ],
   "execution_count": 64
  },
  {
   "metadata": {},
   "cell_type": "code",
   "outputs": [],
   "execution_count": null,
   "source": "",
   "id": "e50e0b8967c415a"
  },
  {
   "metadata": {
    "ExecuteTime": {
     "end_time": "2024-04-29T19:01:02.855502Z",
     "start_time": "2024-04-29T19:01:02.852151Z"
    }
   },
   "cell_type": "code",
   "source": "from transformers import AutoTokenizer",
   "id": "f055e7eef221b30b",
   "outputs": [],
   "execution_count": 70
  },
  {
   "metadata": {
    "ExecuteTime": {
     "end_time": "2024-04-29T19:01:05.451680Z",
     "start_time": "2024-04-29T19:01:04.120999Z"
    }
   },
   "cell_type": "code",
   "source": [
    "model_id = \"google/gemma-2b-it\"\n",
    "# model_id = 'bigscience/bloom-560m'\n",
    "\n",
    "tokenizer = AutoTokenizer.from_pretrained(model_id)\n"
   ],
   "id": "8e3dbfe99d90cb3",
   "outputs": [],
   "execution_count": 71
  },
  {
   "metadata": {
    "ExecuteTime": {
     "end_time": "2024-04-29T19:03:01.092674Z",
     "start_time": "2024-04-29T19:03:01.085050Z"
    }
   },
   "cell_type": "code",
   "source": [
    "tokenizer.apply_chat_template([\n",
    "        # {\"role\": \"system\", \"content\": \"You are a helpful assistant.\" },\n",
    "        {\"role\": \"user\", \"content\": '[user prompt]'}\n",
    "    ], tokenize=False, add_generation_prompt=True) == '<bos><start_of_turn>user\\n[user prompt]<end_of_turn>\\n<start_of_turn>model\\n'"
   ],
   "id": "c221f37d67a35676",
   "outputs": [
    {
     "data": {
      "text/plain": [
       "True"
      ]
     },
     "execution_count": 75,
     "metadata": {},
     "output_type": "execute_result"
    }
   ],
   "execution_count": 75
  },
  {
   "metadata": {},
   "cell_type": "code",
   "outputs": [],
   "execution_count": null,
   "source": "",
   "id": "94dfadb4ac5870d4"
  },
  {
   "metadata": {},
   "cell_type": "code",
   "outputs": [],
   "execution_count": null,
   "source": "",
   "id": "651fb2e7be26d6da"
  },
  {
   "metadata": {},
   "cell_type": "code",
   "outputs": [],
   "execution_count": null,
   "source": "",
   "id": "e41c1fc465c6c4fc"
  },
  {
   "metadata": {},
   "cell_type": "code",
   "outputs": [],
   "execution_count": null,
   "source": "",
   "id": "a14362207baf5378"
  }
 ],
 "metadata": {
  "kernelspec": {
   "display_name": "Python 3",
   "language": "python",
   "name": "python3"
  },
  "language_info": {
   "codemirror_mode": {
    "name": "ipython",
    "version": 2
   },
   "file_extension": ".py",
   "mimetype": "text/x-python",
   "name": "python",
   "nbconvert_exporter": "python",
   "pygments_lexer": "ipython2",
   "version": "2.7.6"
  }
 },
 "nbformat": 4,
 "nbformat_minor": 5
}
