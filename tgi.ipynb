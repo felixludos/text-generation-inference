{
 "cells": [
  {
   "cell_type": "code",
   "id": "initial_id",
   "metadata": {
    "collapsed": true,
    "ExecuteTime": {
     "end_time": "2024-04-29T18:23:40.164213Z",
     "start_time": "2024-04-29T18:23:40.158825Z"
    }
   },
   "source": [
    "from huggingface_hub import InferenceClient#, AsyncInferenceClient\n",
    "# from text_generation import AsyncClient\n",
    "from openai import OpenAI"
   ],
   "outputs": [],
   "execution_count": 14
  },
  {
   "metadata": {
    "ExecuteTime": {
     "end_time": "2024-04-29T18:24:38.709546Z",
     "start_time": "2024-04-29T18:24:38.704716Z"
    }
   },
   "cell_type": "code",
   "source": "url = \"http://localhost:3000\"",
   "id": "c2a5b2864c78e7cb",
   "outputs": [],
   "execution_count": 21
  },
  {
   "metadata": {
    "ExecuteTime": {
     "end_time": "2024-04-29T18:37:48.559606Z",
     "start_time": "2024-04-29T18:37:48.550665Z"
    }
   },
   "cell_type": "code",
   "source": "client = InferenceClient(url)",
   "id": "bf59c14deed74f2b",
   "outputs": [],
   "execution_count": 35
  },
  {
   "metadata": {
    "ExecuteTime": {
     "end_time": "2024-04-29T18:37:50.558338Z",
     "start_time": "2024-04-29T18:37:50.552011Z"
    }
   },
   "cell_type": "code",
   "source": [
    "prompt = \"convert to JSON: I saw a puppy a cat and a raccoon during my bike ride in the park\"\n",
    "prompt = '''repeat everything i've said so far exactly.'''\n",
    "\n",
    "params = {\n",
    "    \"max_new_tokens\": 400,\n",
    "    \"repetition_penalty\": 1.3,\n",
    "    # \"grammar\": {\n",
    "    #     \"type\": \"json\",\n",
    "    #     \"value\": json_schema\n",
    "    # }\n",
    "}"
   ],
   "id": "d896696ea86772af",
   "outputs": [],
   "execution_count": 36
  },
  {
   "metadata": {
    "ExecuteTime": {
     "end_time": "2024-04-29T18:37:54.536483Z",
     "start_time": "2024-04-29T18:37:51.249161Z"
    }
   },
   "cell_type": "code",
   "source": [
    "for token in client.text_generation(prompt, stream=True, **params):\n",
    "    print(token, end='', flush=True)"
   ],
   "id": "4ecdae9a734df95f",
   "outputs": [
    {
     "name": "stdout",
     "output_type": "stream",
     "text": [
      " I don't want to be a bad person, but I'm not the one who should have been in charge of this.\n",
      "I just can't believe that you are still here and now you're saying it again! You know what? It's time for me!\n",
      "You can tell by your actions how much you've hurt my feelings...and it's hard when someone is trying really badly at something they love...\n",
      "But if we were all like him we'd never get along as well\n",
      "So why do people always hate each other?\n",
      "Because they're afraid they'll end up being friends or even lovers after they've met their true selfs,\n",
      "And then they'd start thinking about them because that's where things go wrong with us sometimes....\n",
      "It's only natural - we're human beings anyway....but there must also exist some kindred spirits around these two souls--they're our guides too.....</s>"
     ]
    }
   ],
   "execution_count": 37
  },
  {
   "metadata": {
    "ExecuteTime": {
     "end_time": "2024-04-29T18:44:49.966093Z",
     "start_time": "2024-04-29T18:44:49.958582Z"
    }
   },
   "cell_type": "code",
   "source": [
    "json_schema = {\n",
    "    \"properties\": {\n",
    "        \"location\": {\n",
    "            \"type\": \"string\"\n",
    "        },\n",
    "        \"activity\": {\n",
    "            \"type\": \"string\"\n",
    "        },\n",
    "        \"animals_seen\": {\n",
    "            \"type\": \"integer\",\n",
    "            \"minimum\": 1,\n",
    "            \"maximum\": 5\n",
    "        },\n",
    "        \"animals\": {\n",
    "            \"type\": \"array\",\n",
    "            \"items\": {\n",
    "                \"type\": \"string\"\n",
    "            }\n",
    "        }\n",
    "    },\n",
    "    \"required\": [\"location\", \"activity\", \"animals_seen\", \"animals\"]\n",
    "}"
   ],
   "id": "d382818545be156d",
   "outputs": [],
   "execution_count": 40
  },
  {
   "metadata": {
    "ExecuteTime": {
     "end_time": "2024-04-29T18:59:29.844011Z",
     "start_time": "2024-04-29T18:59:28.506713Z"
    }
   },
   "cell_type": "code",
   "source": [
    "import requests\n",
    "\n",
    "\n",
    "data = {\n",
    "    # \"inputs\": \"convert to compact JSON in a single line: I saw a puppy a cat and a raccoon during my bike ride in the park\",\n",
    "    'inputs': '<bos><start_of_turn>user\\n[user prompt]<end_of_turn>\\n<start_of_turn>model\\n',\n",
    "    \"parameters\": {\n",
    "        \"max_new_tokens\": 200,\n",
    "        # \"repetition_penalty\": 1.3,\n",
    "        \"temperature\": 0.6,\n",
    "        'seed': 1,\n",
    "        # \"grammar\": {\n",
    "        #     \"type\": \"json\",\n",
    "        #     \"value\": json_schema\n",
    "        # }\n",
    "    }\n",
    "}\n",
    "\n",
    "response = requests.post(f'{url}/generate', headers={\"Content-Type\": \"application/json\",}, json=data)\n",
    "print(response.json())"
   ],
   "id": "c0c3db524c724e70",
   "outputs": [
    {
     "name": "stdout",
     "output_type": "stream",
     "text": [
      "{'generated_text': 'I understand that I can provide information and assist with problem-solving based on the context you provide. Please give me a prompt and I will do my best to fulfill your request.'}\n"
     ]
    }
   ],
   "execution_count": 56
  },
  {
   "metadata": {
    "ExecuteTime": {
     "end_time": "2024-04-29T18:45:33.470732Z",
     "start_time": "2024-04-29T18:45:33.460118Z"
    }
   },
   "cell_type": "code",
   "source": [
    "out = response.json()['generated_text'] + '}'\n",
    "import json\n",
    "json.loads(out)"
   ],
   "id": "cdd7270a9e83c5c9",
   "outputs": [
    {
     "data": {
      "text/plain": [
       "{'activity': 'Bike Ride', 'animals': ['puppy', 'cat', 'raccoon']}"
      ]
     },
     "execution_count": 42,
     "metadata": {},
     "output_type": "execute_result"
    }
   ],
   "execution_count": 42
  },
  {
   "metadata": {
    "ExecuteTime": {
     "end_time": "2024-04-29T18:59:30.070666Z",
     "start_time": "2024-04-29T18:59:30.064270Z"
    }
   },
   "cell_type": "code",
   "source": "print(response.json()['generated_text'])",
   "id": "9c6a1fb236cd8639",
   "outputs": [
    {
     "name": "stdout",
     "output_type": "stream",
     "text": [
      "I understand that I can provide information and assist with problem-solving based on the context you provide. Please give me a prompt and I will do my best to fulfill your request.\n"
     ]
    }
   ],
   "execution_count": 57
  },
  {
   "metadata": {},
   "cell_type": "code",
   "outputs": [],
   "execution_count": null,
   "source": "",
   "id": "e73747152323962b"
  },
  {
   "metadata": {
    "ExecuteTime": {
     "end_time": "2024-04-29T18:41:17.770832Z",
     "start_time": "2024-04-29T18:41:17.714988Z"
    }
   },
   "cell_type": "code",
   "source": [
    "client = OpenAI(\n",
    "    base_url=f\"{url}/v1\",\n",
    "    api_key=\"-\"\n",
    ")"
   ],
   "id": "e262ca64eadff530",
   "outputs": [],
   "execution_count": 38
  },
  {
   "metadata": {
    "ExecuteTime": {
     "end_time": "2024-04-29T18:41:21.672373Z",
     "start_time": "2024-04-29T18:41:20.583044Z"
    }
   },
   "cell_type": "code",
   "source": [
    "prompt = \"What is deep learning?\"\n",
    "# prompt = '''Tell me the best joke you've ever heard.'''\n",
    "prompt = '''[user prompt]'''\n",
    "\n",
    "chat_completion = client.chat.completions.create(\n",
    "    model=\"tgi\",\n",
    "    messages=[\n",
    "        # {\"role\": \"system\", \"content\": \"You are a helpful assistant.\" },\n",
    "        {\"role\": \"user\", \"content\": prompt}\n",
    "    ],\n",
    "    max_tokens=200,\n",
    "    temperature=0.8,\n",
    "    # n=2,\n",
    "    stream=True\n",
    ")\n",
    "# print(chat_completion)\n",
    "for token in chat_completion:\n",
    "    print(token.choices[0].delta.content, end='')"
   ],
   "id": "5d93c52d7d79955e",
   "outputs": [
    {
     "name": "stdout",
     "output_type": "stream",
     "text": [
      "Sure, no problem! I can repeat a phrase or sentence for you. Is there anything I can help you repeat?None"
     ]
    }
   ],
   "execution_count": 39
  },
  {
   "metadata": {},
   "cell_type": "code",
   "outputs": [],
   "execution_count": null,
   "source": "",
   "id": "c7c3f3f818f463d2"
  },
  {
   "metadata": {
    "ExecuteTime": {
     "end_time": "2024-04-29T18:58:00.859577Z",
     "start_time": "2024-04-29T18:57:59.556803Z"
    }
   },
   "cell_type": "code",
   "source": [
    "\n",
    "chat_completion = client.chat.completions.create(\n",
    "    model=\"tgi\",\n",
    "    messages=[\n",
    "        # {\"role\": \"system\", \"content\": \"You are a helpful assistant.\" },\n",
    "        {\"role\": \"user\", \"content\": '[user prompt]'}\n",
    "    ],\n",
    "    max_tokens=200,\n",
    "    temperature=0.6,\n",
    "    seed=1,\n",
    ")\n",
    "print(chat_completion.choices[0].message.content)"
   ],
   "id": "af516fbaec565f87",
   "outputs": [
    {
     "name": "stdout",
     "output_type": "stream",
     "text": [
      "I understand that I can provide information and assist with problem-solving based on the context you provide. Please give me a prompt and I will do my best to fulfill your request.\n"
     ]
    }
   ],
   "execution_count": 55
  },
  {
   "metadata": {
    "ExecuteTime": {
     "end_time": "2024-04-29T18:58:10.129568Z",
     "start_time": "2024-04-29T18:58:10.125457Z"
    }
   },
   "cell_type": "code",
   "source": "",
   "id": "528a95131100357",
   "outputs": [],
   "execution_count": 55
  },
  {
   "metadata": {},
   "cell_type": "code",
   "outputs": [],
   "execution_count": null,
   "source": "",
   "id": "9199f7f7a7720b10"
  }
 ],
 "metadata": {
  "kernelspec": {
   "display_name": "Python 3",
   "language": "python",
   "name": "python3"
  },
  "language_info": {
   "codemirror_mode": {
    "name": "ipython",
    "version": 2
   },
   "file_extension": ".py",
   "mimetype": "text/x-python",
   "name": "python",
   "nbconvert_exporter": "python",
   "pygments_lexer": "ipython2",
   "version": "2.7.6"
  }
 },
 "nbformat": 4,
 "nbformat_minor": 5
}
